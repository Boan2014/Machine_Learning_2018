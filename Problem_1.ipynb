{
 "cells": [
  {
   "cell_type": "code",
   "execution_count": 831,
   "metadata": {
    "collapsed": true
   },
   "outputs": [],
   "source": [
    "import numpy as np\n",
    "from matplotlib import pyplot\n",
    "from pandas import DataFrame"
   ]
  },
  {
   "cell_type": "code",
   "execution_count": 832,
   "metadata": {},
   "outputs": [],
   "source": [
    "n = 40\n",
    "omega = np.random.randn(1,1)\n",
    "noise = 0.8 + np.random.randn(n,1)\n",
    "\n",
    "x_2 = np.random.randn(n,2)\n",
    "y_2 = 2 * (omega * x_2[:,0]  + x_2[:,1] + noise.T > 0) -1\n",
    "y_2 = y_2[0]"
   ]
  },
  {
   "cell_type": "code",
   "execution_count": 833,
   "metadata": {},
   "outputs": [
    {
     "data": {
      "image/png": "[encoded data removed]",
      "text/plain": [
       "<matplotlib.figure.Figure at 0x113ecdba8>"
      ]
     },
     "metadata": {},
     "output_type": "display_data"
    }
   ],
   "source": [
    "df = DataFrame(dict(x = x_2[:,0],y= x_2[:,1],label=y_2))\n",
    "colors = {-1:'red', 1:'blue'}\n",
    "fig, ax = pyplot.subplots()\n",
    "grouped = df.groupby('label')\n",
    "for key, group in grouped:\n",
    "    group.plot(ax=ax, kind='scatter', x='x', y='y', label=key, color=colors[key])\n",
    "pyplot.show()"
   ]
  },
  {
   "cell_type": "code",
   "execution_count": 902,
   "metadata": {},
   "outputs": [],
   "source": [
    "X = np.column_stack((x_2, np.ones((n,1))))\n",
    "Y = y_2.reshape(n,1)\n",
    "w = np.random.rand(1,3)[0]\n",
    "lamda = 0.1"
   ]
  },
  {
   "cell_type": "code",
   "execution_count": 903,
   "metadata": {},
   "outputs": [],
   "source": [
    "w = np.array([ 0.72840914,  0.39679146,  0.49826612])"
   ]
  },
  {
   "cell_type": "code",
   "execution_count": 904,
   "metadata": {},
   "outputs": [],
   "source": [
    "#cal the exp(-XwY)\n",
    "def p(X,Y,w):\n",
    "    return 1/(1+np.exp(-Y*np.dot(X,w.reshape(3,1))))\n",
    "\n",
    "def loss(X,Y,w,n):\n",
    "    J = np.sum(np.log(1/p(X,Y,w)))/n + 0.1*np.dot(w.T,w)\n",
    "    return J\n",
    "\n",
    "def grad(X,Y,w,n):\n",
    "    grad = (np.sum((middle(X,Y,w)/(1+middle(X,Y,w)))*(-Y*X))/n)+2*w/Lip\n",
    "    #grad = np.sum((-Y*X)*(1-p(X,Y,w)))/n+2*w/Lip\n",
    "    #for i in range(n):\n",
    "     #   x = np.reshape(X[i],(3,1))\n",
    "      #  exp = np.exp(-Y[i]*np.dot(w,X[i]))\n",
    "      #  grad += exp*(-Y[i]*\n",
    "    return grad\n",
    "\n",
    "def hessian(X,Y,w,n):\n",
    "    hess = 0\n",
    "    for i in range(n):\n",
    "        x = np.reshape(X[i],(3,1))\n",
    "        exp = np.exp(-Y[i]*np.dot(w,X[i]))\n",
    "        hess += (exp/(1+exp)**2)*(np.dot(x,x.T))\n",
    "    hess = hess/n + 2/Lip\n",
    "    #hess =  np.sum(p(X,Y,w)*(1- p(X,Y,w))*XX)/n+2/Lip\n",
    "    return hess"
   ]
  },
  {
   "cell_type": "code",
   "execution_count": 906,
   "metadata": {},
   "outputs": [],
   "source": [
    "J_s_l  = []\n",
    "J_n_l = []\n",
    "W_s = []\n",
    "W_n = []\n",
    "Lip = np.max(np.linalg.eigvals(np.dot(X.T,X)+2*lamda))/4\n",
    "w_s = w.copy()\n",
    "w_n = w.copy()\n",
    "for i in range(400):\n",
    "    W_s.append(w_s)\n",
    "    W_n.append(w_n)\n",
    "    J_steepest = loss(X,Y,w_s,n)\n",
    "    J_Newton = loss(X,Y,w_n,n)\n",
    "    hessI = np.array(np.mat(hessian(X,Y,w_n,n)).I)\n",
    "    w_s = w_s - (grad(X,Y,w_s,n)/Lip)\n",
    "    w_n= w_n - np.dot(hessI,grad(X,Y,w_n,n))\n",
    "    J_s_l.append(J_steepest)\n",
    "    J_n_l.append(J_Newton)\n",
    "J_steepest = loss(X,Y,w_s,n)\n",
    "J_Newton = loss(X,Y,w_n,n)"
   ]
  },
  {
   "cell_type": "code",
   "execution_count": 908,
   "metadata": {
    "scrolled": true
   },
   "outputs": [
    {
     "data": {
      "image/png": "[encoded data removed]",
      "text/plain": [
       "<matplotlib.figure.Figure at 0x10c7366a0>"
      ]
     },
     "metadata": {},
     "output_type": "display_data"
    }
   ],
   "source": [
    "import matplotlib.pyplot as plt\n",
    "plt.plot(J_s_l)\n",
    "plt.plot(J_n_l)\n",
    "plt.legend(['steepest gradient','Newton based'])\n",
    "plt.xlabel('interation')\n",
    "plt.ylabel('J(w)')\n",
    "plt.show()"
   ]
  },
  {
   "cell_type": "code",
   "execution_count": null,
   "metadata": {
    "collapsed": true
   },
   "outputs": [],
   "source": []
  }
 ],
 "metadata": {
  "kernelspec": {
   "display_name": "Python 3",
   "language": "python",
   "name": "python3"
  },
  "language_info": {
   "codemirror_mode": {
    "name": "ipython",
    "version": 3
   },
   "file_extension": ".py",
   "mimetype": "text/x-python",
   "name": "python",
   "nbconvert_exporter": "python",
   "pygments_lexer": "ipython3",
   "version": "3.6.0"
  }
 },
 "nbformat": 4,
 "nbformat_minor": 2
}
